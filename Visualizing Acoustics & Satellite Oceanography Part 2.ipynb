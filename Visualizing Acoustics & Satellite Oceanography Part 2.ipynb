{
 "cells": [
  {
   "cell_type": "markdown",
   "metadata": {},
   "source": [
    "# Visualizing Open Source Acoustic Metrics and Their Relationship to Satellite Oceanography: Part 2 (R)"
   ]
  },
  {
   "cell_type": "markdown",
   "metadata": {},
   "source": [
    "## Emily Speciale, Adrienne Copeland, Carrie Wall Bell"
   ]
  },
  {
   "cell_type": "markdown",
   "metadata": {},
   "source": [
    "This script outlines how to take the .csv data we extracted from Part 1 compare it to satellite oceanography data sets using plots and statistical analysis. We recommend using RStudio for this procedure.\n",
    "\n",
    "First, we must download our satellite data of interest. In this module, we will download chlorophyll a and sea surface temperature (SST) data from June 2019, since June spanned the majority of the EX1903 cruise. We will be using NASA MODIS-Aqua data, which can be accessed from the link https://oceancolor.gsfc.nasa.gov/l3/.\n",
    "\n",
    "To download the chlorophyll a data, click \"Extract or Download Data\". Change the Product to \"Chlorphyll concentration\", the Period to \"Monthly\", the Start Date to \"2019-06-01\", and the End Date to \"2019-06-30\". For Type, select Binned and Mapped. Then select \"Extract\". Because we are only looking at the southeastern U.S., we put our coordinates at 39 N, 24 S, -82 W, -72 E. Then we can review the order and extract the data. Upon recieving the data, simply download it onto your computer. *You will need to make an account with NASA Earth Data to extract and download the data. Once you create the account, the data will eventually load in your NASA Earth Data portal. \n",
    "\n",
    "Complete the same download procedure except for SST, select \"Sea Surface Temperature (11u daytime) as the Product. \n",
    "\n",
    "With both our cruise data and satellite data downloaded, we can begin the analysis. "
   ]
  },
  {
   "cell_type": "code",
   "execution_count": null,
   "metadata": {},
   "outputs": [],
   "source": [
    "install.packages(\"oceanmap\")\n",
    "install.packages(\"ncdf4\")\n",
    "install.packages(\"raster\")\n",
    "install.packages(\"viridis\")\n",
    "install.packages(\"ggplot2\")\n",
    "install.packages(\"dplyr\")\n",
    "install.packages(\"sf\")\n",
    "install.packages(\"tidyverse\")\n",
    "install.packages(\"spData\")\n",
    "install.packages(\"oce\")\n",
    "install.packages(\"dplyr\")\n",
    "install.packages(\"lubridate\")\n",
    "install.packages(\"ggpubr\")\n",
    "install.packages(\"mgcv\")"
   ]
  },
  {
   "cell_type": "code",
   "execution_count": null,
   "metadata": {},
   "outputs": [],
   "source": [
    "library(oceanmap)\n",
    "library(ncdf4)\n",
    "library(raster)\n",
    "library(viridis)\n",
    "library(ggplot2)\n",
    "library(dplyr)\n",
    "library(sf)\n",
    "library(tidyverse)\n",
    "library(spData)\n",
    "library(oce)\n",
    "library(dplyr)\n",
    "library(lubridate)\n",
    "library(ggpubr)\n",
    "library(mgcv)"
   ]
  },
  {
   "cell_type": "markdown",
   "metadata": {},
   "source": [
    "## Downloading and Processing Satellite Data\n",
    "\n",
    "The NASA MODIS data is processed as a raster, and we want to turn it into a data frame that we can easily extract our data from. First we will handle the chlorophyll a data."
   ]
  },
  {
   "cell_type": "code",
   "execution_count": null,
   "metadata": {},
   "outputs": [],
   "source": [
    "# Open our chlorophyll satellite data.\n",
    "chl <- raster(\"/Volumes/Emily_Passport/monthly_chlorophyll/A20191522019181.L3m_MO_CHL.x_chlor_a.nc\")\n",
    "\n",
    "# Turn the chlorophyll raster data into a data frame so we can plot it. \n",
    "chl.df <- raster::as.data.frame(chl, xy = TRUE)\n",
    "\n",
    "# Change the name of the columns to Longitude, Latitude, and Chlorophyll_a.\n",
    "names(chl.df)[names(chl.df) == \"x\"] <- \"Longitude\"\n",
    "names(chl.df)[names(chl.df) == \"y\"] <- \"Latitude\"\n",
    "names(chl.df)[names(chl.df) == \"Chlorophyll.Concentration..OCI.Algorithm\"] <- \"Chlorophyll_a\"\n",
    "\n",
    "# Add a new column that calculates the log chlorophyll values. We want to use log chlorophyll because it has a \n",
    "# more normal distribution. We can check distributions using the hist() function in R. \n",
    "hist(chl.df$Chlorophyll_a)\n",
    "chl.df$log_chlorophyll <- log(chl.df$Chlorophyll_a)\n",
    "hist(chl.df$log_chlorophyll)\n",
    "\n",
    "# Now we will define and plot the log chlorophyll. We will be using this for many other plots later. \n",
    "chlor_a <- ggplot() + geom_raster(data = chl.df, aes(x = Longitude, y = Latitude, fill = log_chlorophyll), \n",
    "    interpolate = FALSE) + geom_sf(data = spData::world, fill = \"grey80\", col = \"black\") \n",
    "    + coord_sf(xlim = c(-81.6, -73), ylim = c(24.7, 38)) + theme_bw() \n",
    "    + scale_fill_gradientn(name = \"Chlorophyll_a\", colours = oce::oceColors9A(120))\n",
    "print(chlor_a)"
   ]
  },
  {
   "cell_type": "markdown",
   "metadata": {},
   "source": [
    "Now we will go through the same steps but with the SST data."
   ]
  },
  {
   "cell_type": "code",
   "execution_count": null,
   "metadata": {},
   "outputs": [],
   "source": [
    "# Open our SST satellite data.\n",
    "sst <- raster(\"/Volumes/Emily_Passport/monthly_sst/AQUA_MODIS.20190601_20190630.L3m.MO.SST.x_sst.nc\")\n",
    "\n",
    "# Turn the SST raster data into a data frame so we can plot it. \n",
    "sst.df <- raster::as.data.frame(sst, xy = TRUE)\n",
    "\n",
    "# Change the name of the columns to Longitude, Latitude, and SST.\n",
    "names(sst.df)[names(sst.df) == \"x\"] <- \"Longitude\"\n",
    "names(sst.df)[names(sst.df) == \"y\"] <- \"Latitude\"\n",
    "names(sst.df)[names(sst.df) == \"Sea.Surface.Temperature\"] <- \"SST\"\n",
    "\n",
    "# Check that the SST distribution is normal.\n",
    "hist(sst.df$SST)\n",
    "\n",
    "# Now we will define and plot the SST. We will be using this for many other plots later. \n",
    "sst_plot <- ggplot() + geom_raster(data = sst.df, aes(x = Longitude, y = Latitude, fill = SST), interpolate = FALSE) \n",
    "    + geom_sf(data = spData::world, fill = \"grey80\", col = \"black\") + coord_sf(xlim = c(-81.6, -73), ylim = c(24.7, 38)) \n",
    "    + theme_bw() + scale_fill_gradientn(name = \"SST (Celsius)\", colours = oce::oceColors9A(120)) \n",
    "    + labs(y=\"Latitude\", x = \"Longitude\")\n",
    "print(sst_plot)"
   ]
  },
  {
   "cell_type": "markdown",
   "metadata": {},
   "source": [
    "## Downloading and Cleaning Echometric Data\n",
    "\n",
    "Now we are going to import and clean our echometric csv data. We want to make sure we have a relatively normal distribution for each echometric, and may have to transform some echometrics into log scale. We also want to clean our data for bad points, which include rows with NaN, rows where our centre of mass is greater than the range, or rows with an Sv greater than -55 dB. "
   ]
  },
  {
   "cell_type": "code",
   "execution_count": null,
   "metadata": {},
   "outputs": [],
   "source": [
    "# Open our echometrics data.\n",
    "echometrics <- read.csv(\"/Volumes/Emily_Passport/cruise_data_final.csv\")\n",
    "\n",
    "# Right now the values in our Time column of our echometric data are just string, and we want to convert them \n",
    "# to time for plotting. \n",
    "echometrics$Time <- ymd_hms(echometrics$Time)\n",
    "\n",
    "# We need to check the distributions of our echometrics by creating histograms for them.\n",
    "hist(echometrics$Sv_Avg)\n",
    "hist(echometrics$Centre_of_Mass)\n",
    "hist(echometrics$Inertia)\n",
    "hist(echometrics$Proportion_Occupied)\n",
    "hist(echometrics$Aggregation_Index)\n",
    "hist(echometrics$Equivalent_Area)\n",
    "\n",
    "# We can see that the aggregation index and equivalent area are very skewed, so we will transform them to log scale.\n",
    "# Check their histograms.\n",
    "echometrics$log_ea <- log(echometrics$Equivalent_Area)\n",
    "echometrics$log_ai <- log(echometrics$Aggregation_Index)\n",
    "hist(echometrics$log_ai)\n",
    "hist(echometrics$log_ea)\n",
    "\n",
    "# Although equivalent area is bimodal, we will accept this for now, as it is better than a skew. Now we can clean\n",
    "# up our data. First, remove any rows with an NaN.\n",
    "echometrics <- na.omit(echometrics)\n",
    "\n",
    "# Now delete rows where centre of mass is greater than the range. Range gives us the maximum depth from the transducer \n",
    "# whereas centre of mass gives us the average location of backscatter in the water column. If COM > range, then \n",
    "# that means seafloor backscatter was not completely removed and contributed highly to the data point. \n",
    "# We want to remove these inaccuracies.\n",
    "echometrics <- echometrics[!(echometrics$Range<=echometrics$Centre_of_Mass),]\n",
    "\n",
    "# Lastly, we will filter out rows in which Sv is greater than -55, as these data points were also highly affected\n",
    "# by the seafloor noise. \n",
    "echometrics <- echometrics[echometrics$Sv_Avg<=-55,]"
   ]
  },
  {
   "cell_type": "markdown",
   "metadata": {},
   "source": [
    "## Combining Satellite and Echometric Datasets\n",
    "\n",
    "Now we want to combine our echometrics data set with our satellite data values, based on latitude and longitude. We do this using our raster data. We start with chlorophyll."
   ]
  },
  {
   "cell_type": "code",
   "execution_count": null,
   "metadata": {},
   "outputs": [],
   "source": [
    "# First we convert our data into spatial objects.\n",
    "echometrics_points <- SpatialPoints(echometrics[c(\"Longitude\", \"Latitude\")], \n",
    "    proj4string = CRS(\"+proj=longlat +datum=WGS84 +ellps=WGS84 +towgs84=0,0,0\"))\n",
    "    \n",
    "# Then we overlay coordinates onto our chlorophyll raster.\n",
    "chlor_ras <- raster::extract(chl, echometrics_points, df = T, sp = T)\n",
    "\n",
    "# Now we clean up the data frames, combine together, and then add it back into \n",
    "# our original data frame. \n",
    "chlor_bind <- bind_cols(as.data.frame(chlor_ras@data), as.data.frame(chlor_ras@coords))\n",
    "echometrics <- full_join(echometrics, chlor_bind)\n",
    "\n",
    "# We change the long preset name to Chlorphyll_a and then make a column for the log chlorophyll\n",
    "# values. \n",
    "names(echometrics)[names(echometrics) == \"Chlorophyll.Concentration..OCI.Algorithm\"] <- \"Chlorophyll_a\"\n",
    "echometrics$log_chlorophyll <- log(echometrics$Chlorophyll_a)"
   ]
  },
  {
   "cell_type": "markdown",
   "metadata": {},
   "source": [
    "Complete the same procedure for SST. "
   ]
  },
  {
   "cell_type": "code",
   "execution_count": null,
   "metadata": {},
   "outputs": [],
   "source": [
    "# We already created our echometrics spatial objects so we can go straight to overlaying \n",
    "# the coordinates onto our SST raster.\n",
    "sst_ras <- raster::extract(sst, echometrics_points, df = T, sp = T)\n",
    "\n",
    "# Now we clean, combine, and add it back.\n",
    "sst_bind <- bind_cols(as.data.frame(sst_ras@data), as.data.frame(sst_ras@coords))\n",
    "echometrics <- full_join(echometrics, sst_bind)\n",
    "\n",
    "# Finally, changing the new column name to SST.\n",
    "names(echometrics)[names(echometrics) == \"Sea.Surface.Temperature\"] <- \"SST\""
   ]
  },
  {
   "cell_type": "markdown",
   "metadata": {},
   "source": [
    "## Plotting Echometrics vs. Timespan of Cruise\n",
    "\n",
    "The first plots we will make will be each echometric vs. the timespan of the cruise. We will use a line plot, though you could also use a scatterplot to represent this data. "
   ]
  },
  {
   "cell_type": "code",
   "execution_count": null,
   "metadata": {},
   "outputs": [],
   "source": [
    "# Sv vs. Time\n",
    "sv_time <- ggplot(data = echometrics, aes(x = Time, y = Sv_Avg)) + geom_line() + labs(y= \"Sv (dB re 1 m^-1)\", x = \"Time\") + theme_bw() \n",
    "print(sv_time)\n",
    "\n",
    "# Centre of Mass vs. Time\n",
    "com_time <- ggplot(data = echometrics, aes(x = Time, y = Centre_of_Mass)) + geom_line() + labs(y= \"Centre of Mass (m)\", x = \"Time\") + theme_bw() \n",
    "print(com_time)\n",
    "\n",
    "# Inertia vs. Time\n",
    "inertia_time <- ggplot(data = echometrics, aes(x = Time, y = Inertia)) + geom_line() + labs(y=\"Inertia (m^-2)\", x = \"Time\") + theme_bw() \n",
    "print(inertia_time)\n",
    "\n",
    "# Proportion Occupied vs. Time\n",
    "po_time <- ggplot(data = echometrics, aes(x = Time, y = Proportion_Occupied)) + geom_line() + labs(y=\"Proportion Occupied\", x = \"Time\") + theme_bw() \n",
    "print(po_time)\n",
    "\n",
    "# Aggregation vs. Time\n",
    "ai_time <- ggplot(data = echometrics, aes(x = Time, y = log_ai)) + geom_line() + labs(y=\"Log Index Aggregation\", x = \"Time\") + theme_bw()\n",
    "print(ai_time)\n",
    "\n",
    "# Equivalent Area vs. Time \n",
    "ea_time <- ggplot(data = echometrics, aes(x = Time, y = log_ea)) + geom_line() + labs(y=\"Log Equivalent Area\", x = \"Time\") + theme_bw()\n",
    "print(ea_time)\n",
    "\n",
    "# Putting all six plots on the same figure.\n",
    "figure_1 <- ggarrange(sv_time, com_time, inertia_time, po_time, ai_time, ea_time, \n",
    "                      labels = c(\"A\", \"B\", \"C\", \"D\", \"E\", \"F\"),\n",
    "                      align = c(\"v\"),\n",
    "                      ncol = 2, nrow = 3) \n",
    "print(figure_1)"
   ]
  },
  {
   "cell_type": "markdown",
   "metadata": {},
   "source": [
    "## Plotting Echometrics vs. Geographic Coordinates\n",
    "\n",
    "The second plots we will make will represent the echometrics and their coordinates, before the addition of satellite data. "
   ]
  },
  {
   "cell_type": "code",
   "execution_count": null,
   "metadata": {},
   "outputs": [],
   "source": [
    "# First we must make a blank map to plot the echometrics on.\n",
    "map <- ggplot() + geom_sf(data = spData::world, fill = \"grey80\", col = \"black\") + coord_sf(xlim = c(-81.6, -73), ylim = c(24.7, 38)) + theme_bw() + labs(y = \"Latitude\", x = \"Longitude\")\n",
    "print(map)\n",
    "\n",
    "# Sv vs. Coordinates\n",
    "sv_position <- map + geom_point(data = echometrics, aes(x = Longitude, y = Latitude, color = Sv_Avg)) + scale_color_viridis(name = \"Sv (dB re 1 m^-1)\", discrete = FALSE, option = \"A\") + labs(y=\"Latitude\", x = \"Longitude\")\n",
    "print(sv_position)\n",
    "\n",
    "# Centre of Mass vs. Coordinates\n",
    "com_position <- map + geom_point(data = echometrics, aes(x = Longitude, y = Latitude, color = Centre_of_Mass)) + scale_color_viridis(name = \"Centre of Mass (m)\", discrete = FALSE, option = \"A\", direction = -1) + labs(y=\"Latitude\", x = \"Longitude\")\n",
    "print(com_position)\n",
    "\n",
    "# Inertia vs. Coordinates\n",
    "inertia_position <- map + geom_point(data = echometrics, aes(x = Longitude, y = Latitude, color = Inertia)) + scale_color_viridis(name = \"Inertia (m^-2)\", discrete = FALSE, option = \"A\") + labs(y=\"Latitude\", x = \"Longitude\")\n",
    "print(inertia_position)\n",
    "\n",
    "# Proportion Occupied vs. Coordinates\n",
    "po_position <- map + geom_point(data = echometrics, aes(x = Longitude, y = Latitude, color = Proportion_Occupied)) + scale_color_viridis(name = \"Proportion Occupied\", discrete = FALSE, option = \"A\") + labs(y=\"Latitude\", x = \"Longitude\")\n",
    "print(po_position)\n",
    "\n",
    "# Aggregation vs. Coordinates\n",
    "ai_position <- map + geom_point(data = echometrics, aes(x = Longitude, y = Latitude, color = log_ai)) + scale_color_viridis(name = \"Log Index Aggregation\", discrete = FALSE, option = \"A\") + labs(y=\"Latitude\", x = \"Longitude\")\n",
    "print(ai_position)\n",
    "\n",
    "# Equivalent Area vs. Coordinates\n",
    "ea_position <- map + geom_point(data = echometrics, aes(x = Longitude, y = Latitude, color = log_ea)) + scale_color_viridis(name = \"Log Equivalent Area\", discrete = FALSE, option = \"A\") + labs(y=\"Latitude\", x = \"Longitude\")\n",
    "print(ea_position)\n",
    "\n",
    "# Putting all six plots on the same figure.\n",
    "figure_2 <- ggarrange(sv_position, com_position, inertia_position, po_position, ai_position,\n",
    "                      ea_position, labels = c(\"A\", \"B\", \"C\", \"D\", \"E\", \"F\"),\n",
    "                      align = c(\"hv\"),\n",
    "                      ncol = 3, nrow = 2)\n",
    "print(figure_2)"
   ]
  },
  {
   "cell_type": "markdown",
   "metadata": {},
   "source": [
    "## Plotting Echometrics and Chlorophyll-a Concentrations on Coordinates\n",
    "\n",
    "Now we will plot the log of chlorophyll-a concentrations and echometric values on the same map. We will be using the chlorophyll map we set up previously to do this. "
   ]
  },
  {
   "cell_type": "code",
   "execution_count": null,
   "metadata": {},
   "outputs": [],
   "source": [
    "# Sv vs. Chlorophyll-a vs. Coordinates\n",
    "sv_chlor <- chlor_a + geom_point(data = echometrics, aes(x = Longitude, y = Latitude, color = Sv_Avg)) + scale_color_viridis(name = \"Sv (dB re 1 m^-1)\", discrete = FALSE, option = \"A\") + labs(y = \"Latitude\", x = \"Longitude\")\n",
    "print(sv_chlor)\n",
    "\n",
    "# Centre of Mass vs. Chlorophyll-a vs. Coordinates\n",
    "com_chlor <- chlor_a + geom_point(data = echometrics, aes(x = Longitude, y = Latitude, color = Centre_of_Mass)) + scale_color_viridis(name = \"Centre of Mass (m)\", discrete = FALSE, option = \"A\", direction = -1) + labs(y=\"Latitude\", x = \"Longitude\")\n",
    "print(com_chlor)\n",
    "\n",
    "# Inertia vs. Chlorophyll-a vs. Coordinates\n",
    "inertia_chlor <- chlor_a + geom_point(data = echometrics, aes(x = Longitude, y = Latitude, color = Inertia)) + scale_color_viridis(name = \"Inertia (m^-2)\", discrete = FALSE, option = \"A\") + labs(y=\"Latitude\", x = \"Longitude\")\n",
    "print(inertia_chlor)\n",
    "\n",
    "# Proportion Occupied vs. Chlorophyll-a vs. Coordinates\n",
    "po_chlor <- chlor_a + geom_point(data = echometrics, aes(x = Longitude, y = Latitude, color = Proportion_Occupied)) + scale_color_viridis(name = \"Proportion Occupied\", discrete = FALSE, option = \"A\") + labs(y=\"Latitude\", x = \"Longitude\")\n",
    "print(po_chlor)\n",
    "\n",
    "# Aggregation vs. Chlorophyll-a vs. Coordinates\n",
    "ai_chlor <- chlor_a + geom_point(data = echometrics, aes(x = Longitude, y = Latitude, color = log_ai)) + scale_color_viridis(name = \"Log Index Aggregation\", discrete = FALSE, option = \"A\") + labs(y=\"Latitude\", x = \"Longitude\")\n",
    "print(ai_chlor)\n",
    "\n",
    "# Equivalent Area vs. Chlorophyll-a vs. Coordinates\n",
    "ea_chlor <- chlor_a + geom_point(data = echometrics, aes(x = Longitude, y = Latitude, color = log_ea)) + scale_color_viridis(name = \"Log Equivalent Area \", discrete = FALSE, option = \"A\") + labs(y=\"Latitude\", x = \"Longitude\")\n",
    "print(ea_chlor)\n",
    "\n",
    "# Putting all six plots on the same figure.\n",
    "figure_3 <- ggarrange(sv_chlor, com_chlor, inertia_chlor, po_chlor, ai_chlor, ea_chlor,\n",
    "                      labels = c(\"A\", \"B\", \"C\", \"D\", \"E\", \"F\"),\n",
    "                      align = c(\"hv\"),\n",
    "                      ncol = 3, nrow = 2)\n",
    "print(figure_3)"
   ]
  },
  {
   "cell_type": "markdown",
   "metadata": {},
   "source": [
    "## Plotting Echometrics and SST on Coordinates\n",
    "\n",
    "Now we will plot the SST and echometric values on the same map. We will be using the SST map we set up previously to do this. "
   ]
  },
  {
   "cell_type": "code",
   "execution_count": null,
   "metadata": {},
   "outputs": [],
   "source": [
    "# Sv vs. SST vs. Coordinates\n",
    "sv_sst <- sst_plot + geom_point(data = echometrics, aes(x = Longitude, y = Latitude, color = Sv_Avg)) + scale_color_viridis(name = \"Sv (dB re 1 m^-1)\", discrete = FALSE, option = \"A\") + labs(y = \"Latitude\", x = \"Longitude\")\n",
    "print(sv_sst)\n",
    "\n",
    "# Centre of Mass vs. SST vs. Coordinates\n",
    "com_sst <- sst_plot + geom_point(data = echometrics, aes(x = Longitude, y = Latitude, color = Centre_of_Mass)) + scale_color_viridis(name = \"Centre of Mass (m)     \", discrete = FALSE, option = \"A\", direction = -1) + labs(y=\"Latitude\", x = \"Longitude\")\n",
    "print(com_sst)\n",
    "\n",
    "# Inertia vs. SST vs. Coordinates\n",
    "inertia_sst <- sst_plot + geom_point(data = echometrics, aes(x = Longitude, y = Latitude, color = Inertia)) + scale_color_viridis(name = \"Inertia (m^-2)   \", discrete = FALSE, option = \"A\") + labs(y=\"Latitude\", x = \"Longitude\")\n",
    "print(inertia_sst)\n",
    "\n",
    "# Proportion Occupied vs. SST vs. Coordinates\n",
    "po_sst <- sst_plot + geom_point(data = echometrics, aes(x = Longitude, y = Latitude, color = Proportion_Occupied)) + scale_color_viridis(name = \"Proportion Occupied\", discrete = FALSE, option = \"A\") + labs(y=\"Latitude\", x = \"Longitude\")\n",
    "print(po_sst)\n",
    "\n",
    "# Aggregation vs. SST vs. Coordinates\n",
    "ai_sst <- sst_plot + geom_point(data = echometrics, aes(x = Longitude, y = Latitude, color = log_ai)) + scale_color_viridis(name = \"Log Index Aggregation\", discrete = FALSE, option = \"A\") + labs(y=\"Latitude\", x = \"Longitude\")\n",
    "print(ai_sst)\n",
    "\n",
    "# Equivalent Area vs. SST vs. Coordinates\n",
    "ea_sst <- sst_plot + geom_point(data = echometrics, aes(x = Longitude, y = Latitude, color = log_ea)) + scale_color_viridis(name = \"Log Equivalent Area   \", discrete = FALSE, option = \"A\") + labs(y=\"Latitude\", x = \"Longitude\")\n",
    "print(ea_sst)\n",
    "\n",
    "# Putting all six plots on the same figure.\n",
    "figure_4 <- ggarrange(sv_sst, com_sst, inertia_sst, po_sst, ai_sst, ea_sst,         \n",
    "          labels = c(\"A\", \"B\", \"C\", \"D\", \"E\", \"F\"),\n",
    "          ncol = 3, nrow = 2)\n",
    "\n",
    "print(figure_4)"
   ]
  },
  {
   "cell_type": "markdown",
   "metadata": {},
   "source": [
    "## Generalized Additive Models (GAMs)\n",
    "\n",
    "Although our plots are visually valuable, we need to run statistical tests and models in order to understand the correlations between our echometrics and the satellite-derived data. GAMs have smooth functions that allow for a better fit of the data compared to linear models. Our first step is to run the significance test "
   ]
  },
  {
   "cell_type": "code",
   "execution_count": null,
   "metadata": {},
   "outputs": [],
   "source": [
    "# Running our GAM statistical test on chlorophyll vs. echometrics. \n",
    "gam_chlor <- gam(log_chlorophyll ~ s(Sv_Avg) + s(Centre_of_Mass) + s(Inertia) + s(Proportion_Occupied) + s(log_ai) + s(log_ea), data = echometrics, method = \"REML\")\n",
    "summary(gam_chlor)\n",
    "\n",
    "# Running our GAM statistical test on SST vs. echometrics.\n",
    "gam_sst <- gam(SST ~ s(Sv_Avg) + s(Centre_of_Mass) + s(Inertia) + s(Proportion_Occupied) + s(log_ai) + s(log_ea), data=echometrics)\n",
    "summary(gam_sst)\n"
   ]
  },
  {
   "cell_type": "markdown",
   "metadata": {},
   "source": [
    "Before we continue, we need to run diagnostic plots to check that our data is appropriate for GAMs."
   ]
  },
  {
   "cell_type": "code",
   "execution_count": null,
   "metadata": {},
   "outputs": [],
   "source": [
    "par(mfrow = c(2,2))\n",
    "gam.check(gam_chlor)\n",
    "\n",
    "par(mfrow = c(2,2))\n",
    "gam.check(gam_sst)"
   ]
  },
  {
   "cell_type": "markdown",
   "metadata": {},
   "source": [
    "The diagnostic plots look okay so we can continue. "
   ]
  },
  {
   "cell_type": "code",
   "execution_count": null,
   "metadata": {},
   "outputs": [],
   "source": [
    "# We will plot the GAM for each echometric with chlorophyll.\n",
    "par(mfrow = c(3,2))\n",
    "\n",
    "# Chlorophyll vs. Sv GAM\n",
    "plot(gam_chlor, select = 1, residuals = T, shade = TRUE, col = \"black\", xlab = \"Sv (dB re 1 m^-1)\", ylab = \"Linear Predictor\")\n",
    "\n",
    "# Chlorophyll vs. Centre of Mass GAM\n",
    "plot(gam_chlor, select = 2, residuals = T, shade = TRUE, col = \"black\", xlab = \"Centre of Mass (m)\", ylab = \"Linear Predictor\")\n",
    "\n",
    "# Chlorophyll vs. Inertia GAM\n",
    "plot(gam_chlor, select = 3, residuals = T, shade = TRUE, color = \"black\", xlab = \"Inertia (m^-2)\", ylab = \"Linear Predictor\")\n",
    "\n",
    "# Chlorophyll vs. Proportion Occupied GAM\n",
    "plot(gam_chlor, select = 4, residuals = T, shade = TRUE, color = \"black\", xlab = \"Proportion Occupied\", ylab = \"Linear Predictor\")\n",
    "\n",
    "# Chlorophyll vs. Aggregation GAM\n",
    "plot(gam_chlor, select = 5, residuals = T, shade = TRUE, color = \"black\",  xlab = \"Log Index Aggregation\", ylab = \"Linear Predictor\")\n",
    "\n",
    "# Chlorophyll vs. Equivalent Area GAM\n",
    "plot(gam_chlor, select = 6, residuals = T, shade = TRUE, color = \"black\", xlab = \"Log Equivalent Area\", ylab = \"Linear Predictor\")\n",
    "\n",
    "# Now the GAMs for SST.\n",
    "par(mfrow = c(3,2))\n",
    "\n",
    "# SST vs. Sv GAM\n",
    "plot(gam_sst, select = 1, residuals = T, shade = TRUE, col = \"black\", xlab = \"Sv (dB re 1 m^-1)\", ylab = \"Linear Predictor\")\n",
    "\n",
    "# SST vs. Centre of Mass GAM\n",
    "plot(gam_sst, select = 2, residuals = T, shade = TRUE, col = \"black\", xlab = \"Centre of Mass (m)\", ylab = \"Linear Predictor\")\n",
    "\n",
    "# SST vs. Inertia GAM\n",
    "plot(gam_sst, select = 3, residuals = T, shade = TRUE, color = \"black\", xlab = \"Inertia (m^-2)\", ylab = \"Linear Predictor\")\n",
    "\n",
    "# SST vs. Proportion Occupied GAM\n",
    "plot(gam_sst, select = 4, residuals = T, shade = TRUE, color = \"black\", xlab = \"Proportion Occupied\", ylab = \"Linear Predictor\")\n",
    "\n",
    "# SST vs. Aggregation GAM\n",
    "plot(gam_sst, select = 5, residuals = T, shade = TRUE, color = \"black\",  xlab = \"Log Index Aggregation\", ylab = \"Linear Predictor\")\n",
    "\n",
    "# SST vs. Equivalent Area GAM\n",
    "plot(gam_sst, select = 6, residuals = T, shade = TRUE, color = \"black\", xlab = \"Log Equivalent Area\", ylab = \"Linear Predictor\")"
   ]
  }
 ],
 "metadata": {
  "kernelspec": {
   "display_name": "R",
   "language": "R",
   "name": "ir"
  }
 },
 "nbformat": 4,
 "nbformat_minor": 4
}
